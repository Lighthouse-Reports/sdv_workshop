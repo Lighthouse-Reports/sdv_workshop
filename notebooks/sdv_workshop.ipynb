{
 "cells": [
  {
   "cell_type": "markdown",
   "id": "8eb098e4-1f1b-4f97-ae92-ff0be232170f",
   "metadata": {},
   "source": [
    "## Installation"
   ]
  },
  {
   "cell_type": "code",
   "execution_count": 9,
   "id": "edc77a7d-117e-427e-a3ae-9d31d0addbcd",
   "metadata": {},
   "outputs": [],
   "source": [
    "import sdv\n",
    "from sdv.datasets.demo import download_demo"
   ]
  },
  {
   "cell_type": "markdown",
   "id": "b21b922c-73f7-41b9-9695-6117e7874a7c",
   "metadata": {},
   "source": [
    "## Load data"
   ]
  },
  {
   "cell_type": "code",
   "execution_count": 10,
   "id": "a9c4a217-fc7f-4f8a-9c69-63312d51274d",
   "metadata": {},
   "outputs": [],
   "source": [
    "real_data, metadata = download_demo(\n",
    "    modality='single_table',\n",
    "    dataset_name='fake_hotel_guests'\n",
    ")"
   ]
  },
  {
   "cell_type": "code",
   "execution_count": 11,
   "id": "9094d873-0cbd-42d0-9d30-10bdee6164d5",
   "metadata": {},
   "outputs": [
    {
     "data": {
      "text/html": [
       "<div>\n",
       "<style scoped>\n",
       "    .dataframe tbody tr th:only-of-type {\n",
       "        vertical-align: middle;\n",
       "    }\n",
       "\n",
       "    .dataframe tbody tr th {\n",
       "        vertical-align: top;\n",
       "    }\n",
       "\n",
       "    .dataframe thead th {\n",
       "        text-align: right;\n",
       "    }\n",
       "</style>\n",
       "<table border=\"1\" class=\"dataframe\">\n",
       "  <thead>\n",
       "    <tr style=\"text-align: right;\">\n",
       "      <th></th>\n",
       "      <th>guest_email</th>\n",
       "      <th>has_rewards</th>\n",
       "      <th>room_type</th>\n",
       "      <th>amenities_fee</th>\n",
       "      <th>checkin_date</th>\n",
       "      <th>checkout_date</th>\n",
       "      <th>room_rate</th>\n",
       "      <th>billing_address</th>\n",
       "      <th>credit_card_number</th>\n",
       "    </tr>\n",
       "  </thead>\n",
       "  <tbody>\n",
       "    <tr>\n",
       "      <th>0</th>\n",
       "      <td>michaelsanders@shaw.net</td>\n",
       "      <td>False</td>\n",
       "      <td>BASIC</td>\n",
       "      <td>37.89</td>\n",
       "      <td>27 Dec 2020</td>\n",
       "      <td>29 Dec 2020</td>\n",
       "      <td>131.23</td>\n",
       "      <td>49380 Rivers Street\\nSpencerville, AK 68265</td>\n",
       "      <td>4075084747483975747</td>\n",
       "    </tr>\n",
       "    <tr>\n",
       "      <th>1</th>\n",
       "      <td>randy49@brown.biz</td>\n",
       "      <td>False</td>\n",
       "      <td>BASIC</td>\n",
       "      <td>24.37</td>\n",
       "      <td>30 Dec 2020</td>\n",
       "      <td>02 Jan 2021</td>\n",
       "      <td>114.43</td>\n",
       "      <td>88394 Boyle Meadows\\nConleyberg, TN 22063</td>\n",
       "      <td>180072822063468</td>\n",
       "    </tr>\n",
       "    <tr>\n",
       "      <th>2</th>\n",
       "      <td>webermelissa@neal.com</td>\n",
       "      <td>True</td>\n",
       "      <td>DELUXE</td>\n",
       "      <td>0.00</td>\n",
       "      <td>17 Sep 2020</td>\n",
       "      <td>18 Sep 2020</td>\n",
       "      <td>368.33</td>\n",
       "      <td>0323 Lisa Station Apt. 208\\nPort Thomas, LA 82585</td>\n",
       "      <td>38983476971380</td>\n",
       "    </tr>\n",
       "    <tr>\n",
       "      <th>3</th>\n",
       "      <td>gsims@terry.com</td>\n",
       "      <td>False</td>\n",
       "      <td>BASIC</td>\n",
       "      <td>NaN</td>\n",
       "      <td>28 Dec 2020</td>\n",
       "      <td>31 Dec 2020</td>\n",
       "      <td>115.61</td>\n",
       "      <td>77 Massachusetts Ave\\nCambridge, MA 02139</td>\n",
       "      <td>4969551998845740</td>\n",
       "    </tr>\n",
       "    <tr>\n",
       "      <th>4</th>\n",
       "      <td>misty33@smith.biz</td>\n",
       "      <td>False</td>\n",
       "      <td>BASIC</td>\n",
       "      <td>16.45</td>\n",
       "      <td>05 Apr 2020</td>\n",
       "      <td>NaN</td>\n",
       "      <td>122.41</td>\n",
       "      <td>1234 Corporate Drive\\nBoston, MA 02116</td>\n",
       "      <td>3558512986488983</td>\n",
       "    </tr>\n",
       "  </tbody>\n",
       "</table>\n",
       "</div>"
      ],
      "text/plain": [
       "               guest_email  has_rewards room_type  amenities_fee checkin_date  \\\n",
       "0  michaelsanders@shaw.net        False     BASIC          37.89  27 Dec 2020   \n",
       "1        randy49@brown.biz        False     BASIC          24.37  30 Dec 2020   \n",
       "2    webermelissa@neal.com         True    DELUXE           0.00  17 Sep 2020   \n",
       "3          gsims@terry.com        False     BASIC            NaN  28 Dec 2020   \n",
       "4        misty33@smith.biz        False     BASIC          16.45  05 Apr 2020   \n",
       "\n",
       "  checkout_date  room_rate                                    billing_address  \\\n",
       "0   29 Dec 2020     131.23        49380 Rivers Street\\nSpencerville, AK 68265   \n",
       "1   02 Jan 2021     114.43          88394 Boyle Meadows\\nConleyberg, TN 22063   \n",
       "2   18 Sep 2020     368.33  0323 Lisa Station Apt. 208\\nPort Thomas, LA 82585   \n",
       "3   31 Dec 2020     115.61          77 Massachusetts Ave\\nCambridge, MA 02139   \n",
       "4           NaN     122.41             1234 Corporate Drive\\nBoston, MA 02116   \n",
       "\n",
       "    credit_card_number  \n",
       "0  4075084747483975747  \n",
       "1      180072822063468  \n",
       "2       38983476971380  \n",
       "3     4969551998845740  \n",
       "4     3558512986488983  "
      ]
     },
     "execution_count": 11,
     "metadata": {},
     "output_type": "execute_result"
    }
   ],
   "source": [
    "real_data.head()"
   ]
  },
  {
   "cell_type": "markdown",
   "id": "79ed3ad4-3fba-4b99-a480-3616d743375e",
   "metadata": {},
   "source": [
    "## Metadata\n",
    "The demo dataset is set up with metadata. Here is how you can set it up for your own data: https://docs.sdv.dev/sdv/reference/metadata-spec"
   ]
  },
  {
   "cell_type": "code",
   "execution_count": 12,
   "id": "5b02fde2-d41f-4bcd-b462-7ed0016ef249",
   "metadata": {},
   "outputs": [
    {
     "data": {
      "image/svg+xml": [
       "<?xml version=\"1.0\" encoding=\"UTF-8\" standalone=\"no\"?>\n",
       "<!DOCTYPE svg PUBLIC \"-//W3C//DTD SVG 1.1//EN\"\n",
       " \"http://www.w3.org/Graphics/SVG/1.1/DTD/svg11.dtd\">\n",
       "<!-- Generated by graphviz version 2.50.0 (0)\n",
       " -->\n",
       "<!-- Title: Metadata Pages: 1 -->\n",
       "<svg width=\"255pt\" height=\"198pt\"\n",
       " viewBox=\"0.00 0.00 255.00 198.00\" xmlns=\"http://www.w3.org/2000/svg\" xmlns:xlink=\"http://www.w3.org/1999/xlink\">\n",
       "<g id=\"graph0\" class=\"graph\" transform=\"scale(1 1) rotate(0) translate(4 194)\">\n",
       "<title>Metadata</title>\n",
       "<polygon fill=\"white\" stroke=\"transparent\" points=\"-4,4 -4,-194 251,-194 251,4 -4,4\"/>\n",
       "<!-- fake_hotel_guests -->\n",
       "<g id=\"node1\" class=\"node\">\n",
       "<title>fake_hotel_guests</title>\n",
       "<path fill=\"#ffec8b\" stroke=\"black\" d=\"M12,-0.5C12,-0.5 235,-0.5 235,-0.5 241,-0.5 247,-6.5 247,-12.5 247,-12.5 247,-177.5 247,-177.5 247,-183.5 241,-189.5 235,-189.5 235,-189.5 12,-189.5 12,-189.5 6,-189.5 0,-183.5 0,-177.5 0,-177.5 0,-12.5 0,-12.5 0,-6.5 6,-0.5 12,-0.5\"/>\n",
       "<text text-anchor=\"middle\" x=\"123.5\" y=\"-174.3\" font-family=\"Times,serif\" font-size=\"14.00\">fake_hotel_guests</text>\n",
       "<polyline fill=\"none\" stroke=\"black\" points=\"0,-166.5 247,-166.5 \"/>\n",
       "<text text-anchor=\"start\" x=\"8\" y=\"-151.3\" font-family=\"Times,serif\" font-size=\"14.00\">guest_email : email</text>\n",
       "<text text-anchor=\"start\" x=\"8\" y=\"-136.3\" font-family=\"Times,serif\" font-size=\"14.00\">has_rewards : boolean</text>\n",
       "<text text-anchor=\"start\" x=\"8\" y=\"-121.3\" font-family=\"Times,serif\" font-size=\"14.00\">room_type : categorical</text>\n",
       "<text text-anchor=\"start\" x=\"8\" y=\"-106.3\" font-family=\"Times,serif\" font-size=\"14.00\">amenities_fee : numerical</text>\n",
       "<text text-anchor=\"start\" x=\"8\" y=\"-91.3\" font-family=\"Times,serif\" font-size=\"14.00\">checkin_date : datetime</text>\n",
       "<text text-anchor=\"start\" x=\"8\" y=\"-76.3\" font-family=\"Times,serif\" font-size=\"14.00\">checkout_date : datetime</text>\n",
       "<text text-anchor=\"start\" x=\"8\" y=\"-61.3\" font-family=\"Times,serif\" font-size=\"14.00\">room_rate : numerical</text>\n",
       "<text text-anchor=\"start\" x=\"8\" y=\"-46.3\" font-family=\"Times,serif\" font-size=\"14.00\">billing_address : address</text>\n",
       "<text text-anchor=\"start\" x=\"8\" y=\"-31.3\" font-family=\"Times,serif\" font-size=\"14.00\">credit_card_number : credit_card_number</text>\n",
       "<polyline fill=\"none\" stroke=\"black\" points=\"0,-23.5 247,-23.5 \"/>\n",
       "<text text-anchor=\"start\" x=\"8\" y=\"-8.3\" font-family=\"Times,serif\" font-size=\"14.00\">Primary key: guest_email</text>\n",
       "</g>\n",
       "</g>\n",
       "</svg>\n"
      ],
      "text/plain": [
       "<graphviz.graphs.Digraph at 0x1929765d0>"
      ]
     },
     "execution_count": 12,
     "metadata": {},
     "output_type": "execute_result"
    }
   ],
   "source": [
    "metadata.visualize()"
   ]
  },
  {
   "cell_type": "markdown",
   "id": "0ef5a390-5488-4190-9da0-270b6f2849de",
   "metadata": {},
   "source": [
    "## Create a Synthesizer\n",
    "A synthesizer allows you to generate new data the looks like the training data but is fully anonymized. SDV includes multiple synthesizers. https://docs.sdv.dev/sdv/single-table-data/modeling/synthesizers. You can play around with the hyperparameters etc."
   ]
  },
  {
   "cell_type": "code",
   "execution_count": 13,
   "id": "785c158d-1ab4-4021-b175-5c23b7cfcb1f",
   "metadata": {},
   "outputs": [],
   "source": [
    "## Gaussian Copula\n",
    "from sdv.single_table import GaussianCopulaSynthesizer\n",
    "\n",
    "gc_synthesizer = GaussianCopulaSynthesizer(metadata)\n",
    "gc_synthesizer.fit(data = real_data)"
   ]
  },
  {
   "cell_type": "markdown",
   "id": "57b809bc-61e7-452d-aa42-9abe6e94cf28",
   "metadata": {},
   "source": [
    "## Synthesize New Data\n",
    "Once you have a synthesizer, you can create new data."
   ]
  },
  {
   "cell_type": "code",
   "execution_count": 14,
   "id": "f5d17267-6c74-4b6d-bf65-546dac3ff1ec",
   "metadata": {},
   "outputs": [
    {
     "data": {
      "text/html": [
       "<div>\n",
       "<style scoped>\n",
       "    .dataframe tbody tr th:only-of-type {\n",
       "        vertical-align: middle;\n",
       "    }\n",
       "\n",
       "    .dataframe tbody tr th {\n",
       "        vertical-align: top;\n",
       "    }\n",
       "\n",
       "    .dataframe thead th {\n",
       "        text-align: right;\n",
       "    }\n",
       "</style>\n",
       "<table border=\"1\" class=\"dataframe\">\n",
       "  <thead>\n",
       "    <tr style=\"text-align: right;\">\n",
       "      <th></th>\n",
       "      <th>guest_email</th>\n",
       "      <th>has_rewards</th>\n",
       "      <th>room_type</th>\n",
       "      <th>amenities_fee</th>\n",
       "      <th>checkin_date</th>\n",
       "      <th>checkout_date</th>\n",
       "      <th>room_rate</th>\n",
       "      <th>billing_address</th>\n",
       "      <th>credit_card_number</th>\n",
       "    </tr>\n",
       "  </thead>\n",
       "  <tbody>\n",
       "    <tr>\n",
       "      <th>0</th>\n",
       "      <td>dsullivan@example.net</td>\n",
       "      <td>True</td>\n",
       "      <td>BASIC</td>\n",
       "      <td>2.34</td>\n",
       "      <td>26 Mar 2020</td>\n",
       "      <td>11 Apr 2020</td>\n",
       "      <td>119.53</td>\n",
       "      <td>90469 Karla Knolls Apt. 781\\nSusanberg, CA 70033</td>\n",
       "      <td>5161033759518983</td>\n",
       "    </tr>\n",
       "    <tr>\n",
       "      <th>1</th>\n",
       "      <td>steven59@example.org</td>\n",
       "      <td>False</td>\n",
       "      <td>DELUXE</td>\n",
       "      <td>NaN</td>\n",
       "      <td>02 Jul 2020</td>\n",
       "      <td>14 Sep 2020</td>\n",
       "      <td>174.70</td>\n",
       "      <td>6108 Carla Ports Apt. 116\\nPort Evan, MI 71694</td>\n",
       "      <td>4133047413145475690</td>\n",
       "    </tr>\n",
       "    <tr>\n",
       "      <th>2</th>\n",
       "      <td>brandon15@example.net</td>\n",
       "      <td>False</td>\n",
       "      <td>BASIC</td>\n",
       "      <td>22.08</td>\n",
       "      <td>30 Mar 2020</td>\n",
       "      <td>17 Mar 2020</td>\n",
       "      <td>148.34</td>\n",
       "      <td>86709 Jeremy Manors Apt. 786\\nPort Garychester...</td>\n",
       "      <td>4977328103788</td>\n",
       "    </tr>\n",
       "    <tr>\n",
       "      <th>3</th>\n",
       "      <td>humphreyjennifer@example.net</td>\n",
       "      <td>False</td>\n",
       "      <td>BASIC</td>\n",
       "      <td>8.18</td>\n",
       "      <td>03 May 2020</td>\n",
       "      <td>22 May 2020</td>\n",
       "      <td>177.51</td>\n",
       "      <td>8906 Bobby Trail\\nEast Sandra, NY 43986</td>\n",
       "      <td>3524946844839485</td>\n",
       "    </tr>\n",
       "    <tr>\n",
       "      <th>4</th>\n",
       "      <td>joshuabrown@example.net</td>\n",
       "      <td>False</td>\n",
       "      <td>SUITE</td>\n",
       "      <td>7.69</td>\n",
       "      <td>13 Jan 2020</td>\n",
       "      <td>10 Jan 2020</td>\n",
       "      <td>187.93</td>\n",
       "      <td>732 Dennis Lane\\nPort Nicholasstad, DE 49786</td>\n",
       "      <td>4446905799576890978</td>\n",
       "    </tr>\n",
       "  </tbody>\n",
       "</table>\n",
       "</div>"
      ],
      "text/plain": [
       "                    guest_email  has_rewards room_type  amenities_fee  \\\n",
       "0         dsullivan@example.net         True     BASIC           2.34   \n",
       "1          steven59@example.org        False    DELUXE            NaN   \n",
       "2         brandon15@example.net        False     BASIC          22.08   \n",
       "3  humphreyjennifer@example.net        False     BASIC           8.18   \n",
       "4       joshuabrown@example.net        False     SUITE           7.69   \n",
       "\n",
       "  checkin_date checkout_date  room_rate  \\\n",
       "0  26 Mar 2020   11 Apr 2020     119.53   \n",
       "1  02 Jul 2020   14 Sep 2020     174.70   \n",
       "2  30 Mar 2020   17 Mar 2020     148.34   \n",
       "3  03 May 2020   22 May 2020     177.51   \n",
       "4  13 Jan 2020   10 Jan 2020     187.93   \n",
       "\n",
       "                                     billing_address   credit_card_number  \n",
       "0   90469 Karla Knolls Apt. 781\\nSusanberg, CA 70033     5161033759518983  \n",
       "1     6108 Carla Ports Apt. 116\\nPort Evan, MI 71694  4133047413145475690  \n",
       "2  86709 Jeremy Manors Apt. 786\\nPort Garychester...        4977328103788  \n",
       "3            8906 Bobby Trail\\nEast Sandra, NY 43986     3524946844839485  \n",
       "4       732 Dennis Lane\\nPort Nicholasstad, DE 49786  4446905799576890978  "
      ]
     },
     "execution_count": 14,
     "metadata": {},
     "output_type": "execute_result"
    }
   ],
   "source": [
    "synthetic_data = gc_synthesizer.sample(\n",
    "    num_rows=500\n",
    ")\n",
    "\n",
    "synthetic_data.head()"
   ]
  },
  {
   "cell_type": "markdown",
   "id": "42d1f4ec-3ff9-44d2-9456-6045b5d1f292",
   "metadata": {},
   "source": [
    "## Evaluating your data\n",
    "You can run plenty of diagnostics on your synthetic data to ensure that it's structure matches the original data, check for anonymization and look at substantive similarity between the real an synthetic data."
   ]
  },
  {
   "cell_type": "code",
   "execution_count": 15,
   "id": "67512772-ad42-49e2-9086-a5c1df53b754",
   "metadata": {},
   "outputs": [
    {
     "name": "stdout",
     "output_type": "stream",
     "text": [
      "Generating report ...\n",
      "\n",
      "(1/2) Evaluating Data Validity: |███████████████| 9/9 [00:00<00:00, 868.37it/s]|\n",
      "Data Validity Score: 100.0%\n",
      "\n",
      "(2/2) Evaluating Data Structure: |██████████████| 1/1 [00:00<00:00, 229.79it/s]|\n",
      "Data Structure Score: 100.0%\n",
      "\n",
      "Overall Score (Average): 100.0%\n",
      "\n"
     ]
    }
   ],
   "source": [
    "from sdv.evaluation.single_table import run_diagnostic\n",
    "\n",
    "### Structural Similarity\n",
    "diagnostic = run_diagnostic(\n",
    "    real_data=real_data,\n",
    "    synthetic_data=synthetic_data,\n",
    "    metadata=metadata\n",
    ")"
   ]
  },
  {
   "cell_type": "code",
   "execution_count": 16,
   "id": "310e0896-6b28-4524-9754-3d35afb96183",
   "metadata": {},
   "outputs": [
    {
     "name": "stdout",
     "output_type": "stream",
     "text": [
      "Generating report ...\n",
      "\n",
      "(1/2) Evaluating Column Shapes: |███████████████| 9/9 [00:00<00:00, 515.58it/s]|\n",
      "Column Shapes Score: 89.11%\n",
      "\n",
      "(2/2) Evaluating Column Pair Trends: |████████| 36/36 [00:00<00:00, 426.23it/s]|\n",
      "Column Pair Trends Score: 88.3%\n",
      "\n",
      "Overall Score (Average): 88.7%\n",
      "\n"
     ]
    }
   ],
   "source": [
    "#Statistical similarity between synthetic and real data\n",
    "from sdv.evaluation.single_table import evaluate_quality\n",
    "\n",
    "quality_report = evaluate_quality(\n",
    "    real_data,\n",
    "    synthetic_data,\n",
    "    metadata\n",
    ")"
   ]
  },
  {
   "cell_type": "code",
   "execution_count": 20,
   "id": "dcf3c165-4042-4ed2-a37e-97080a86df7b",
   "metadata": {},
   "outputs": [
    {
     "data": {
      "text/html": [
       "<iframe\n",
       "    scrolling=\"no\"\n",
       "    width=\"100%\"\n",
       "    height=\"545px\"\n",
       "    src=\"iframe_figures/figure_20.html\"\n",
       "    frameborder=\"0\"\n",
       "    allowfullscreen\n",
       "></iframe>\n"
      ]
     },
     "metadata": {},
     "output_type": "display_data"
    }
   ],
   "source": [
    "from sdv.evaluation.single_table import get_column_pair_plot\n",
    "\n",
    "fig = get_column_pair_plot(\n",
    "    real_data=real_data,\n",
    "    synthetic_data=synthetic_data,\n",
    "    metadata=metadata,\n",
    "    column_names=['room_rate', 'room_type'],\n",
    "    )\n",
    "    \n",
    "fig.show()"
   ]
  },
  {
   "cell_type": "markdown",
   "id": "de7ff528-80b1-4e7a-8d2a-a1b5200dc624",
   "metadata": {},
   "source": [
    "## Saving and Loading"
   ]
  },
  {
   "cell_type": "code",
   "execution_count": 19,
   "id": "ebb74446-59c5-4d94-98a9-58bd5aea212c",
   "metadata": {},
   "outputs": [],
   "source": [
    "gc_synthesizer.save('my_synthesizer.pkl')\n",
    "\n",
    "gc_synthesizer = GaussianCopulaSynthesizer.load('my_synthesizer.pkl')"
   ]
  },
  {
   "cell_type": "markdown",
   "id": "ac316692-f440-44c4-92a9-08542f896110",
   "metadata": {},
   "source": [
    "## Credit\n",
    "Adapted from https://colab.research.google.com/drive/1F3WWduNjcX4oKck6XkjlwZ9zIsWlTGEM?usp=sharing#scrollTo=ZwdD7psYFOYL and other SDV tutorials found on https://docs.sdv.dev/sdv."
   ]
  }
 ],
 "metadata": {
  "kernelspec": {
   "display_name": "Python 3 (ipykernel)",
   "language": "python",
   "name": "python3"
  },
  "language_info": {
   "codemirror_mode": {
    "name": "ipython",
    "version": 3
   },
   "file_extension": ".py",
   "mimetype": "text/x-python",
   "name": "python",
   "nbconvert_exporter": "python",
   "pygments_lexer": "ipython3",
   "version": "3.12.2"
  }
 },
 "nbformat": 4,
 "nbformat_minor": 5
}
